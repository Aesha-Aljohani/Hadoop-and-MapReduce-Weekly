{
  "nbformat": 4,
  "nbformat_minor": 0,
  "metadata": {
    "colab": {
      "provenance": []
    },
    "kernelspec": {
      "name": "python3",
      "display_name": "Python 3"
    },
    "language_info": {
      "name": "python"
    }
  },
  "cells": [
    {
      "cell_type": "markdown",
      "source": [
        "## Import Packages"
      ],
      "metadata": {
        "id": "K-98AX9QtdMH"
      }
    },
    {
      "cell_type": "code",
      "execution_count": 14,
      "metadata": {
        "id": "WMb9uQpGheGi"
      },
      "outputs": [],
      "source": [
        "# Import Libraries\n",
        "import pandas as pd\n",
        "import numpy as np\n",
        "\n",
        "from sklearn import preprocessing\n",
        "from sklearn.impute import SimpleImputer"
      ]
    },
    {
      "cell_type": "markdown",
      "source": [
        "## Read Dataset"
      ],
      "metadata": {
        "id": "XyfzwTuetgQT"
      }
    },
    {
      "cell_type": "code",
      "source": [
        "data=pd.read_csv('/content/Social Development Bank Loans For 2019.csv')\n",
        "data.head()"
      ],
      "metadata": {
        "colab": {
          "base_uri": "https://localhost:8080/",
          "height": 461
        },
        "id": "E2fJUZN_hrc6",
        "outputId": "6814c1a8-34fa-4c6f-fbd6-c549350a5a75"
      },
      "execution_count": 36,
      "outputs": [
        {
          "output_type": "execute_result",
          "data": {
            "text/plain": [
              "    ID bank branch funding type funding classification  \\\n",
              "0  1.0       Tabūk       social                 family   \n",
              "1  2.0        Hail      project               solution   \n",
              "2  3.0       Tabūk       social               marriage   \n",
              "3  4.0      Medina       social               marriage   \n",
              "4  5.0      Medina       social                 family   \n",
              "\n",
              "                    customer sector  financing value installment value  \\\n",
              "0               government employee          60000.0           >= 1000   \n",
              "1                               NaN         160000.0           >= 1000   \n",
              "2               government employee          60000.0           >= 1000   \n",
              "3  employee of a government company          60000.0            < 1000   \n",
              "4           private sector employee          60000.0           >= 1000   \n",
              "\n",
              "  cashing date     sex    age social status special needs  \\\n",
              "0      2019/02    MALE  >= 30       married            No   \n",
              "1      2019/01    MALE   < 30        single            No   \n",
              "2      2019/02    MALE   < 30       married            No   \n",
              "3      2019/03    MALE   < 30       married            No   \n",
              "4      2019/02  FEMALE  >= 30      divorced            No   \n",
              "\n",
              "  number of family members saving loan    income  \n",
              "0                    >= 05          No    < 5000  \n",
              "1                     < 02          No    < 5000  \n",
              "2                    >= 02          No   >= 7500  \n",
              "3                    >= 10          No   >= 5000  \n",
              "4                    >= 02          No  >= 10000  "
            ],
            "text/html": [
              "\n",
              "  <div id=\"df-8e4185fe-f393-472e-a424-4fe84533ed45\">\n",
              "    <div class=\"colab-df-container\">\n",
              "      <div>\n",
              "<style scoped>\n",
              "    .dataframe tbody tr th:only-of-type {\n",
              "        vertical-align: middle;\n",
              "    }\n",
              "\n",
              "    .dataframe tbody tr th {\n",
              "        vertical-align: top;\n",
              "    }\n",
              "\n",
              "    .dataframe thead th {\n",
              "        text-align: right;\n",
              "    }\n",
              "</style>\n",
              "<table border=\"1\" class=\"dataframe\">\n",
              "  <thead>\n",
              "    <tr style=\"text-align: right;\">\n",
              "      <th></th>\n",
              "      <th>ID</th>\n",
              "      <th>bank branch</th>\n",
              "      <th>funding type</th>\n",
              "      <th>funding classification</th>\n",
              "      <th>customer sector</th>\n",
              "      <th>financing value</th>\n",
              "      <th>installment value</th>\n",
              "      <th>cashing date</th>\n",
              "      <th>sex</th>\n",
              "      <th>age</th>\n",
              "      <th>social status</th>\n",
              "      <th>special needs</th>\n",
              "      <th>number of family members</th>\n",
              "      <th>saving loan</th>\n",
              "      <th>income</th>\n",
              "    </tr>\n",
              "  </thead>\n",
              "  <tbody>\n",
              "    <tr>\n",
              "      <th>0</th>\n",
              "      <td>1.0</td>\n",
              "      <td>Tabūk</td>\n",
              "      <td>social</td>\n",
              "      <td>family</td>\n",
              "      <td>government employee</td>\n",
              "      <td>60000.0</td>\n",
              "      <td>&gt;= 1000</td>\n",
              "      <td>2019/02</td>\n",
              "      <td>MALE</td>\n",
              "      <td>&gt;= 30</td>\n",
              "      <td>married</td>\n",
              "      <td>No</td>\n",
              "      <td>&gt;= 05</td>\n",
              "      <td>No</td>\n",
              "      <td>&lt; 5000</td>\n",
              "    </tr>\n",
              "    <tr>\n",
              "      <th>1</th>\n",
              "      <td>2.0</td>\n",
              "      <td>Hail</td>\n",
              "      <td>project</td>\n",
              "      <td>solution</td>\n",
              "      <td>NaN</td>\n",
              "      <td>160000.0</td>\n",
              "      <td>&gt;= 1000</td>\n",
              "      <td>2019/01</td>\n",
              "      <td>MALE</td>\n",
              "      <td>&lt; 30</td>\n",
              "      <td>single</td>\n",
              "      <td>No</td>\n",
              "      <td>&lt; 02</td>\n",
              "      <td>No</td>\n",
              "      <td>&lt; 5000</td>\n",
              "    </tr>\n",
              "    <tr>\n",
              "      <th>2</th>\n",
              "      <td>3.0</td>\n",
              "      <td>Tabūk</td>\n",
              "      <td>social</td>\n",
              "      <td>marriage</td>\n",
              "      <td>government employee</td>\n",
              "      <td>60000.0</td>\n",
              "      <td>&gt;= 1000</td>\n",
              "      <td>2019/02</td>\n",
              "      <td>MALE</td>\n",
              "      <td>&lt; 30</td>\n",
              "      <td>married</td>\n",
              "      <td>No</td>\n",
              "      <td>&gt;= 02</td>\n",
              "      <td>No</td>\n",
              "      <td>&gt;= 7500</td>\n",
              "    </tr>\n",
              "    <tr>\n",
              "      <th>3</th>\n",
              "      <td>4.0</td>\n",
              "      <td>Medina</td>\n",
              "      <td>social</td>\n",
              "      <td>marriage</td>\n",
              "      <td>employee of a government company</td>\n",
              "      <td>60000.0</td>\n",
              "      <td>&lt; 1000</td>\n",
              "      <td>2019/03</td>\n",
              "      <td>MALE</td>\n",
              "      <td>&lt; 30</td>\n",
              "      <td>married</td>\n",
              "      <td>No</td>\n",
              "      <td>&gt;= 10</td>\n",
              "      <td>No</td>\n",
              "      <td>&gt;= 5000</td>\n",
              "    </tr>\n",
              "    <tr>\n",
              "      <th>4</th>\n",
              "      <td>5.0</td>\n",
              "      <td>Medina</td>\n",
              "      <td>social</td>\n",
              "      <td>family</td>\n",
              "      <td>private sector employee</td>\n",
              "      <td>60000.0</td>\n",
              "      <td>&gt;= 1000</td>\n",
              "      <td>2019/02</td>\n",
              "      <td>FEMALE</td>\n",
              "      <td>&gt;= 30</td>\n",
              "      <td>divorced</td>\n",
              "      <td>No</td>\n",
              "      <td>&gt;= 02</td>\n",
              "      <td>No</td>\n",
              "      <td>&gt;= 10000</td>\n",
              "    </tr>\n",
              "  </tbody>\n",
              "</table>\n",
              "</div>\n",
              "      <button class=\"colab-df-convert\" onclick=\"convertToInteractive('df-8e4185fe-f393-472e-a424-4fe84533ed45')\"\n",
              "              title=\"Convert this dataframe to an interactive table.\"\n",
              "              style=\"display:none;\">\n",
              "        \n",
              "  <svg xmlns=\"http://www.w3.org/2000/svg\" height=\"24px\"viewBox=\"0 0 24 24\"\n",
              "       width=\"24px\">\n",
              "    <path d=\"M0 0h24v24H0V0z\" fill=\"none\"/>\n",
              "    <path d=\"M18.56 5.44l.94 2.06.94-2.06 2.06-.94-2.06-.94-.94-2.06-.94 2.06-2.06.94zm-11 1L8.5 8.5l.94-2.06 2.06-.94-2.06-.94L8.5 2.5l-.94 2.06-2.06.94zm10 10l.94 2.06.94-2.06 2.06-.94-2.06-.94-.94-2.06-.94 2.06-2.06.94z\"/><path d=\"M17.41 7.96l-1.37-1.37c-.4-.4-.92-.59-1.43-.59-.52 0-1.04.2-1.43.59L10.3 9.45l-7.72 7.72c-.78.78-.78 2.05 0 2.83L4 21.41c.39.39.9.59 1.41.59.51 0 1.02-.2 1.41-.59l7.78-7.78 2.81-2.81c.8-.78.8-2.07 0-2.86zM5.41 20L4 18.59l7.72-7.72 1.47 1.35L5.41 20z\"/>\n",
              "  </svg>\n",
              "      </button>\n",
              "      \n",
              "  <style>\n",
              "    .colab-df-container {\n",
              "      display:flex;\n",
              "      flex-wrap:wrap;\n",
              "      gap: 12px;\n",
              "    }\n",
              "\n",
              "    .colab-df-convert {\n",
              "      background-color: #E8F0FE;\n",
              "      border: none;\n",
              "      border-radius: 50%;\n",
              "      cursor: pointer;\n",
              "      display: none;\n",
              "      fill: #1967D2;\n",
              "      height: 32px;\n",
              "      padding: 0 0 0 0;\n",
              "      width: 32px;\n",
              "    }\n",
              "\n",
              "    .colab-df-convert:hover {\n",
              "      background-color: #E2EBFA;\n",
              "      box-shadow: 0px 1px 2px rgba(60, 64, 67, 0.3), 0px 1px 3px 1px rgba(60, 64, 67, 0.15);\n",
              "      fill: #174EA6;\n",
              "    }\n",
              "\n",
              "    [theme=dark] .colab-df-convert {\n",
              "      background-color: #3B4455;\n",
              "      fill: #D2E3FC;\n",
              "    }\n",
              "\n",
              "    [theme=dark] .colab-df-convert:hover {\n",
              "      background-color: #434B5C;\n",
              "      box-shadow: 0px 1px 3px 1px rgba(0, 0, 0, 0.15);\n",
              "      filter: drop-shadow(0px 1px 2px rgba(0, 0, 0, 0.3));\n",
              "      fill: #FFFFFF;\n",
              "    }\n",
              "  </style>\n",
              "\n",
              "      <script>\n",
              "        const buttonEl =\n",
              "          document.querySelector('#df-8e4185fe-f393-472e-a424-4fe84533ed45 button.colab-df-convert');\n",
              "        buttonEl.style.display =\n",
              "          google.colab.kernel.accessAllowed ? 'block' : 'none';\n",
              "\n",
              "        async function convertToInteractive(key) {\n",
              "          const element = document.querySelector('#df-8e4185fe-f393-472e-a424-4fe84533ed45');\n",
              "          const dataTable =\n",
              "            await google.colab.kernel.invokeFunction('convertToInteractive',\n",
              "                                                     [key], {});\n",
              "          if (!dataTable) return;\n",
              "\n",
              "          const docLinkHtml = 'Like what you see? Visit the ' +\n",
              "            '<a target=\"_blank\" href=https://colab.research.google.com/notebooks/data_table.ipynb>data table notebook</a>'\n",
              "            + ' to learn more about interactive tables.';\n",
              "          element.innerHTML = '';\n",
              "          dataTable['output_type'] = 'display_data';\n",
              "          await google.colab.output.renderOutput(dataTable, element);\n",
              "          const docLink = document.createElement('div');\n",
              "          docLink.innerHTML = docLinkHtml;\n",
              "          element.appendChild(docLink);\n",
              "        }\n",
              "      </script>\n",
              "    </div>\n",
              "  </div>\n",
              "  "
            ]
          },
          "metadata": {},
          "execution_count": 36
        }
      ]
    },
    {
      "cell_type": "code",
      "source": [
        "print('Shape of dataset is ', data.shape)"
      ],
      "metadata": {
        "colab": {
          "base_uri": "https://localhost:8080/"
        },
        "id": "XqYpq88FiKdv",
        "outputId": "e171ae41-dddd-40b8-d5a6-35a3796c0266"
      },
      "execution_count": 37,
      "outputs": [
        {
          "output_type": "stream",
          "name": "stdout",
          "text": [
            "Shape of dataset is  (11175, 15)\n"
          ]
        }
      ]
    },
    {
      "cell_type": "code",
      "source": [
        "data.info()"
      ],
      "metadata": {
        "colab": {
          "base_uri": "https://localhost:8080/"
        },
        "id": "B10t2digiKcf",
        "outputId": "d9af5d44-2fb4-4b77-edd6-5763524f9174"
      },
      "execution_count": 38,
      "outputs": [
        {
          "output_type": "stream",
          "name": "stdout",
          "text": [
            "<class 'pandas.core.frame.DataFrame'>\n",
            "RangeIndex: 11175 entries, 0 to 11174\n",
            "Data columns (total 15 columns):\n",
            " #   Column                    Non-Null Count  Dtype  \n",
            "---  ------                    --------------  -----  \n",
            " 0   ID                        11175 non-null  float64\n",
            " 1   bank branch               11175 non-null  object \n",
            " 2   funding type              11175 non-null  object \n",
            " 3   funding classification    11175 non-null  object \n",
            " 4   customer sector           7225 non-null   object \n",
            " 5   financing value           11175 non-null  float64\n",
            " 6   installment value         11175 non-null  object \n",
            " 7   cashing date              11175 non-null  object \n",
            " 8   sex                       11175 non-null  object \n",
            " 9   age                       11169 non-null  object \n",
            " 10  social status             11175 non-null  object \n",
            " 11  special needs             11175 non-null  object \n",
            " 12  number of family members  11132 non-null  object \n",
            " 13  saving loan               11175 non-null  object \n",
            " 14  income                    11061 non-null  object \n",
            "dtypes: float64(2), object(13)\n",
            "memory usage: 1.3+ MB\n"
          ]
        }
      ]
    },
    {
      "cell_type": "markdown",
      "source": [
        "### Data Preprocessing"
      ],
      "metadata": {
        "id": "1Pa49ifGtRzu"
      }
    },
    {
      "cell_type": "markdown",
      "source": [
        "#### Handle missing values"
      ],
      "metadata": {
        "id": "tw7xQr4FtlYk"
      }
    },
    {
      "cell_type": "code",
      "source": [
        "#Checking for the null values in the dataset\n",
        "data.isnull().sum()"
      ],
      "metadata": {
        "colab": {
          "base_uri": "https://localhost:8080/"
        },
        "id": "Q4qIGiUeiYcM",
        "outputId": "c42f583b-fd22-433a-f736-2ec1532a2a33"
      },
      "execution_count": 39,
      "outputs": [
        {
          "output_type": "execute_result",
          "data": {
            "text/plain": [
              "ID                             0\n",
              "bank branch                    0\n",
              "funding type                   0\n",
              "funding classification         0\n",
              "customer sector             3950\n",
              "financing value                0\n",
              "installment value              0\n",
              "cashing date                   0\n",
              "sex                            0\n",
              "age                            6\n",
              "social status                  0\n",
              "special needs                  0\n",
              "number of family members      43\n",
              "saving loan                    0\n",
              "income                       114\n",
              "dtype: int64"
            ]
          },
          "metadata": {},
          "execution_count": 39
        }
      ]
    },
    {
      "cell_type": "code",
      "source": [
        "# Fill in the Missing Values using the Simple Imputer with the Most Frequent strategy\n",
        "imputer = SimpleImputer(strategy='most_frequent', missing_values=np.nan)\n",
        "imputer = imputer.fit(data[['customer sector', 'income', 'number of family members', 'age']])\n",
        "data[['customer sector', 'income','number of family members', 'age']] = imputer.transform(\n",
        "    data[['customer sector', 'income', 'number of family members', 'age']])"
      ],
      "metadata": {
        "id": "kb_eqOFTiewb"
      },
      "execution_count": 40,
      "outputs": []
    },
    {
      "cell_type": "code",
      "source": [
        "# Check if missing values is filling in each column \n",
        "print('Customer sector missing values after handling = ', data['customer sector'].isnull().sum())\n",
        "print('Income missing values after handling = ', data['income'].isnull().sum())\n",
        "print('Number of family members missing values after handling = ', data['number of family members'].isnull().sum())\n",
        "print('Age missing values after handling = ', data['age'].isnull().sum())"
      ],
      "metadata": {
        "colab": {
          "base_uri": "https://localhost:8080/"
        },
        "id": "ZcTSbyO-ipxF",
        "outputId": "4b445de9-0043-4fc1-8a09-ab92a3ee761c"
      },
      "execution_count": 41,
      "outputs": [
        {
          "output_type": "stream",
          "name": "stdout",
          "text": [
            "Customer sector missing values after handling =  0\n",
            "Income missing values after handling =  0\n",
            "Number of family members missing values after handling =  0\n",
            "Age missing values after handling =  0\n"
          ]
        }
      ]
    },
    {
      "cell_type": "markdown",
      "source": [
        "#### Delete unimportant columns"
      ],
      "metadata": {
        "id": "c722ss5jtxaM"
      }
    },
    {
      "cell_type": "code",
      "source": [
        "# Delete the unneeded coulmns.\n",
        "data.drop(['ID'], axis=1, inplace=True)\n",
        "data.drop(['cashing date'], axis=1, inplace=True)\n",
        "data.drop(['social status'], axis=1, inplace=True) \n",
        "data.drop(['special needs'], axis=1, inplace=True) \n",
        "data.head(5)"
      ],
      "metadata": {
        "colab": {
          "base_uri": "https://localhost:8080/",
          "height": 389
        },
        "id": "VcAwBWjdiuT3",
        "outputId": "a62b213f-2dc1-4adb-86c5-16cba915d3e2"
      },
      "execution_count": 42,
      "outputs": [
        {
          "output_type": "execute_result",
          "data": {
            "text/plain": [
              "  bank branch funding type funding classification  \\\n",
              "0       Tabūk       social                 family   \n",
              "1        Hail      project               solution   \n",
              "2       Tabūk       social               marriage   \n",
              "3      Medina       social               marriage   \n",
              "4      Medina       social                 family   \n",
              "\n",
              "                    customer sector  financing value installment value  \\\n",
              "0               government employee          60000.0           >= 1000   \n",
              "1               government employee         160000.0           >= 1000   \n",
              "2               government employee          60000.0           >= 1000   \n",
              "3  employee of a government company          60000.0            < 1000   \n",
              "4           private sector employee          60000.0           >= 1000   \n",
              "\n",
              "      sex    age number of family members saving loan    income  \n",
              "0    MALE  >= 30                    >= 05          No    < 5000  \n",
              "1    MALE   < 30                     < 02          No    < 5000  \n",
              "2    MALE   < 30                    >= 02          No   >= 7500  \n",
              "3    MALE   < 30                    >= 10          No   >= 5000  \n",
              "4  FEMALE  >= 30                    >= 02          No  >= 10000  "
            ],
            "text/html": [
              "\n",
              "  <div id=\"df-9d8f3d4e-43c1-409c-8930-338b35ce1f25\">\n",
              "    <div class=\"colab-df-container\">\n",
              "      <div>\n",
              "<style scoped>\n",
              "    .dataframe tbody tr th:only-of-type {\n",
              "        vertical-align: middle;\n",
              "    }\n",
              "\n",
              "    .dataframe tbody tr th {\n",
              "        vertical-align: top;\n",
              "    }\n",
              "\n",
              "    .dataframe thead th {\n",
              "        text-align: right;\n",
              "    }\n",
              "</style>\n",
              "<table border=\"1\" class=\"dataframe\">\n",
              "  <thead>\n",
              "    <tr style=\"text-align: right;\">\n",
              "      <th></th>\n",
              "      <th>bank branch</th>\n",
              "      <th>funding type</th>\n",
              "      <th>funding classification</th>\n",
              "      <th>customer sector</th>\n",
              "      <th>financing value</th>\n",
              "      <th>installment value</th>\n",
              "      <th>sex</th>\n",
              "      <th>age</th>\n",
              "      <th>number of family members</th>\n",
              "      <th>saving loan</th>\n",
              "      <th>income</th>\n",
              "    </tr>\n",
              "  </thead>\n",
              "  <tbody>\n",
              "    <tr>\n",
              "      <th>0</th>\n",
              "      <td>Tabūk</td>\n",
              "      <td>social</td>\n",
              "      <td>family</td>\n",
              "      <td>government employee</td>\n",
              "      <td>60000.0</td>\n",
              "      <td>&gt;= 1000</td>\n",
              "      <td>MALE</td>\n",
              "      <td>&gt;= 30</td>\n",
              "      <td>&gt;= 05</td>\n",
              "      <td>No</td>\n",
              "      <td>&lt; 5000</td>\n",
              "    </tr>\n",
              "    <tr>\n",
              "      <th>1</th>\n",
              "      <td>Hail</td>\n",
              "      <td>project</td>\n",
              "      <td>solution</td>\n",
              "      <td>government employee</td>\n",
              "      <td>160000.0</td>\n",
              "      <td>&gt;= 1000</td>\n",
              "      <td>MALE</td>\n",
              "      <td>&lt; 30</td>\n",
              "      <td>&lt; 02</td>\n",
              "      <td>No</td>\n",
              "      <td>&lt; 5000</td>\n",
              "    </tr>\n",
              "    <tr>\n",
              "      <th>2</th>\n",
              "      <td>Tabūk</td>\n",
              "      <td>social</td>\n",
              "      <td>marriage</td>\n",
              "      <td>government employee</td>\n",
              "      <td>60000.0</td>\n",
              "      <td>&gt;= 1000</td>\n",
              "      <td>MALE</td>\n",
              "      <td>&lt; 30</td>\n",
              "      <td>&gt;= 02</td>\n",
              "      <td>No</td>\n",
              "      <td>&gt;= 7500</td>\n",
              "    </tr>\n",
              "    <tr>\n",
              "      <th>3</th>\n",
              "      <td>Medina</td>\n",
              "      <td>social</td>\n",
              "      <td>marriage</td>\n",
              "      <td>employee of a government company</td>\n",
              "      <td>60000.0</td>\n",
              "      <td>&lt; 1000</td>\n",
              "      <td>MALE</td>\n",
              "      <td>&lt; 30</td>\n",
              "      <td>&gt;= 10</td>\n",
              "      <td>No</td>\n",
              "      <td>&gt;= 5000</td>\n",
              "    </tr>\n",
              "    <tr>\n",
              "      <th>4</th>\n",
              "      <td>Medina</td>\n",
              "      <td>social</td>\n",
              "      <td>family</td>\n",
              "      <td>private sector employee</td>\n",
              "      <td>60000.0</td>\n",
              "      <td>&gt;= 1000</td>\n",
              "      <td>FEMALE</td>\n",
              "      <td>&gt;= 30</td>\n",
              "      <td>&gt;= 02</td>\n",
              "      <td>No</td>\n",
              "      <td>&gt;= 10000</td>\n",
              "    </tr>\n",
              "  </tbody>\n",
              "</table>\n",
              "</div>\n",
              "      <button class=\"colab-df-convert\" onclick=\"convertToInteractive('df-9d8f3d4e-43c1-409c-8930-338b35ce1f25')\"\n",
              "              title=\"Convert this dataframe to an interactive table.\"\n",
              "              style=\"display:none;\">\n",
              "        \n",
              "  <svg xmlns=\"http://www.w3.org/2000/svg\" height=\"24px\"viewBox=\"0 0 24 24\"\n",
              "       width=\"24px\">\n",
              "    <path d=\"M0 0h24v24H0V0z\" fill=\"none\"/>\n",
              "    <path d=\"M18.56 5.44l.94 2.06.94-2.06 2.06-.94-2.06-.94-.94-2.06-.94 2.06-2.06.94zm-11 1L8.5 8.5l.94-2.06 2.06-.94-2.06-.94L8.5 2.5l-.94 2.06-2.06.94zm10 10l.94 2.06.94-2.06 2.06-.94-2.06-.94-.94-2.06-.94 2.06-2.06.94z\"/><path d=\"M17.41 7.96l-1.37-1.37c-.4-.4-.92-.59-1.43-.59-.52 0-1.04.2-1.43.59L10.3 9.45l-7.72 7.72c-.78.78-.78 2.05 0 2.83L4 21.41c.39.39.9.59 1.41.59.51 0 1.02-.2 1.41-.59l7.78-7.78 2.81-2.81c.8-.78.8-2.07 0-2.86zM5.41 20L4 18.59l7.72-7.72 1.47 1.35L5.41 20z\"/>\n",
              "  </svg>\n",
              "      </button>\n",
              "      \n",
              "  <style>\n",
              "    .colab-df-container {\n",
              "      display:flex;\n",
              "      flex-wrap:wrap;\n",
              "      gap: 12px;\n",
              "    }\n",
              "\n",
              "    .colab-df-convert {\n",
              "      background-color: #E8F0FE;\n",
              "      border: none;\n",
              "      border-radius: 50%;\n",
              "      cursor: pointer;\n",
              "      display: none;\n",
              "      fill: #1967D2;\n",
              "      height: 32px;\n",
              "      padding: 0 0 0 0;\n",
              "      width: 32px;\n",
              "    }\n",
              "\n",
              "    .colab-df-convert:hover {\n",
              "      background-color: #E2EBFA;\n",
              "      box-shadow: 0px 1px 2px rgba(60, 64, 67, 0.3), 0px 1px 3px 1px rgba(60, 64, 67, 0.15);\n",
              "      fill: #174EA6;\n",
              "    }\n",
              "\n",
              "    [theme=dark] .colab-df-convert {\n",
              "      background-color: #3B4455;\n",
              "      fill: #D2E3FC;\n",
              "    }\n",
              "\n",
              "    [theme=dark] .colab-df-convert:hover {\n",
              "      background-color: #434B5C;\n",
              "      box-shadow: 0px 1px 3px 1px rgba(0, 0, 0, 0.15);\n",
              "      filter: drop-shadow(0px 1px 2px rgba(0, 0, 0, 0.3));\n",
              "      fill: #FFFFFF;\n",
              "    }\n",
              "  </style>\n",
              "\n",
              "      <script>\n",
              "        const buttonEl =\n",
              "          document.querySelector('#df-9d8f3d4e-43c1-409c-8930-338b35ce1f25 button.colab-df-convert');\n",
              "        buttonEl.style.display =\n",
              "          google.colab.kernel.accessAllowed ? 'block' : 'none';\n",
              "\n",
              "        async function convertToInteractive(key) {\n",
              "          const element = document.querySelector('#df-9d8f3d4e-43c1-409c-8930-338b35ce1f25');\n",
              "          const dataTable =\n",
              "            await google.colab.kernel.invokeFunction('convertToInteractive',\n",
              "                                                     [key], {});\n",
              "          if (!dataTable) return;\n",
              "\n",
              "          const docLinkHtml = 'Like what you see? Visit the ' +\n",
              "            '<a target=\"_blank\" href=https://colab.research.google.com/notebooks/data_table.ipynb>data table notebook</a>'\n",
              "            + ' to learn more about interactive tables.';\n",
              "          element.innerHTML = '';\n",
              "          dataTable['output_type'] = 'display_data';\n",
              "          await google.colab.output.renderOutput(dataTable, element);\n",
              "          const docLink = document.createElement('div');\n",
              "          docLink.innerHTML = docLinkHtml;\n",
              "          element.appendChild(docLink);\n",
              "        }\n",
              "      </script>\n",
              "    </div>\n",
              "  </div>\n",
              "  "
            ]
          },
          "metadata": {},
          "execution_count": 42
        }
      ]
    },
    {
      "cell_type": "markdown",
      "source": [
        "## MapReduce Part"
      ],
      "metadata": {
        "id": "ODgj-8T8t-Ij"
      }
    },
    {
      "cell_type": "code",
      "source": [
        "!pip install mrjob"
      ],
      "metadata": {
        "colab": {
          "base_uri": "https://localhost:8080/"
        },
        "id": "CbHDSnl3uFBZ",
        "outputId": "762a5fc0-703a-4d9b-ec98-3eed285c5805"
      },
      "execution_count": 43,
      "outputs": [
        {
          "output_type": "stream",
          "name": "stdout",
          "text": [
            "Looking in indexes: https://pypi.org/simple, https://us-python.pkg.dev/colab-wheels/public/simple/\n",
            "Requirement already satisfied: mrjob in /usr/local/lib/python3.7/dist-packages (0.7.4)\n",
            "Requirement already satisfied: PyYAML>=3.10 in /usr/local/lib/python3.7/dist-packages (from mrjob) (6.0)\n"
          ]
        }
      ]
    },
    {
      "cell_type": "markdown",
      "source": [
        "### Convert the dataframe into text file"
      ],
      "metadata": {
        "id": "KziBcKKit4Bq"
      }
    },
    {
      "cell_type": "code",
      "source": [
        "data.to_csv(\"/content/SocialBankLoans.txt\", index = False)"
      ],
      "metadata": {
        "id": "FSUZhMF7lp3T"
      },
      "execution_count": 44,
      "outputs": []
    },
    {
      "cell_type": "markdown",
      "source": [
        "### 1st MapReduce\n",
        "\n",
        "#### We create a MapReduce class to count the occurrence of each loan type in order to find the most requested type from the social development bank loans."
      ],
      "metadata": {
        "id": "x7bvRYD4Jww4"
      }
    },
    {
      "cell_type": "markdown",
      "source": [
        "#### Create a text file containing one column from the full data text"
      ],
      "metadata": {
        "id": "xAMqlWRfvNGD"
      }
    },
    {
      "cell_type": "code",
      "source": [
        "# funding Types text file to find the most requested types of loan \n",
        "data['funding type'].to_csv(\"/content/fundingType.txt\", index = False)"
      ],
      "metadata": {
        "id": "Gt2JUFCEt5V5"
      },
      "execution_count": 45,
      "outputs": []
    },
    {
      "cell_type": "markdown",
      "source": [
        "#### Create the Class"
      ],
      "metadata": {
        "id": "G4AdrkRPvUrl"
      }
    },
    {
      "cell_type": "code",
      "source": [
        "%%file LoanTypesCount.py\n",
        "# %%file is an Ipython magic function that saves the code cell as a file\n",
        "\n",
        "from mrjob.job import MRJob # import the mrjob.job library\n",
        "from mrjob.step import MRStep # import the mrjob.step library\n",
        "\n",
        "class SA_LoanTypesCount(MRJob):\n",
        "    def steps(self):\n",
        "      return [\n",
        "          MRStep(mapper=self.mapper_get_loanType,\n",
        "                 reducer=self.reducer_count_loanTypes)\n",
        "      ]\n",
        "    \n",
        "\n",
        "    def mapper_get_loanType(self, _, loan_type):\n",
        "        # output each line as a tuple of (loan_type, 1) \n",
        "        yield (loan_type, 1)\n",
        "\n",
        "    # the reduce step: combine all tuples with the same key. In this case, the key is the loan\n",
        "    # then sum all the values of the tuple, which will give the most loann type requested\n",
        "    def reducer_count_loanTypes(self, key, values):\n",
        "        yield (key, sum(values))\n",
        "        \n",
        "if __name__ == \"__main__\":\n",
        "  SA_LoanTypesCount.run()"
      ],
      "metadata": {
        "colab": {
          "base_uri": "https://localhost:8080/"
        },
        "id": "sc7rB7BrvaG5",
        "outputId": "36625f61-db22-4c68-b097-85d0b162c9a5"
      },
      "execution_count": 48,
      "outputs": [
        {
          "output_type": "stream",
          "name": "stdout",
          "text": [
            "Overwriting LoanTypesCount.py\n"
          ]
        }
      ]
    },
    {
      "cell_type": "code",
      "source": [
        "!python LoanTypesCount.py fundingType.txt"
      ],
      "metadata": {
        "colab": {
          "base_uri": "https://localhost:8080/"
        },
        "id": "mSs38deAxZcg",
        "outputId": "836be432-5199-4994-894a-3ccf51c7f53d"
      },
      "execution_count": 49,
      "outputs": [
        {
          "output_type": "stream",
          "name": "stdout",
          "text": [
            "No configs found; falling back on auto-configuration\n",
            "No configs specified for inline runner\n",
            "Creating temp directory /tmp/LoanTypesCount.root.20221130.110600.038980\n",
            "Running step 1 of 1...\n",
            "job output is in /tmp/LoanTypesCount.root.20221130.110600.038980/output\n",
            "Streaming final output from /tmp/LoanTypesCount.root.20221130.110600.038980/output...\n",
            "\"funding type\"\t1\n",
            "\"project\"\t656\n",
            "\"social\"\t10384\n",
            "\"transfer\"\t135\n",
            "Removing temp directory /tmp/LoanTypesCount.root.20221130.110600.038980...\n"
          ]
        }
      ]
    },
    {
      "cell_type": "markdown",
      "source": [
        "**We can conclude from these results that the most requested loan type is the social type, with 10384 occurrences.**"
      ],
      "metadata": {
        "id": "bonRhsviPQEP"
      }
    },
    {
      "cell_type": "markdown",
      "source": [
        "### 2nd MapReduce\n",
        "\n",
        "#### MapReduce is also used to find the specific loan type that is most commonly requested within social loans."
      ],
      "metadata": {
        "id": "1jq_tX5RJ7_3"
      }
    },
    {
      "cell_type": "markdown",
      "source": [
        "#### Create a text file containing one column from the full data text"
      ],
      "metadata": {
        "id": "kgrx6IZWKCiU"
      }
    },
    {
      "cell_type": "code",
      "source": [
        "# funding classification text file to find the exact classification of the most requested loan.  \n",
        "data['funding classification'].to_csv(\"/content/fundingClassification.txt\", index = False)"
      ],
      "metadata": {
        "id": "r9hfUHe2J0K2"
      },
      "execution_count": 50,
      "outputs": []
    },
    {
      "cell_type": "markdown",
      "source": [
        "#### Create the Class"
      ],
      "metadata": {
        "id": "eqmOTEmSK6xL"
      }
    },
    {
      "cell_type": "code",
      "source": [
        "%%file ClassOfLoanCount.py\n",
        "# %%file is an Ipython magic function that saves the code cell as a file\n",
        "\n",
        "from mrjob.job import MRJob # import the mrjob.job library\n",
        "from mrjob.step import MRStep # import the mrjob.step library\n",
        "\n",
        "class SA_ClassOfLoanCount(MRJob):\n",
        "    def steps(self):\n",
        "      return [\n",
        "          MRStep(mapper=self.mapper_get_ClassOfLoan,\n",
        "                 reducer=self.reducer_count_ClassOfLoans)\n",
        "      ]\n",
        "    \n",
        "\n",
        "    def mapper_get_ClassOfLoan(self, _, loan_class):\n",
        "        # output each line as a tuple of (loan_class, 1) \n",
        "        yield (loan_class, 1)\n",
        "\n",
        "    # the reduce step: combine all tuples with the same key. In this case, the key is the loanClass\n",
        "    # then sum all the values of the tuple, which will give the most loan class requested\n",
        "    def reducer_count_ClassOfLoans(self, key, values):\n",
        "        yield (key, sum(values))\n",
        "        \n",
        "if __name__ == \"__main__\":\n",
        "  SA_ClassOfLoanCount.run()"
      ],
      "metadata": {
        "colab": {
          "base_uri": "https://localhost:8080/"
        },
        "id": "cbo4P3F4K7u8",
        "outputId": "17703f07-bf78-4b23-ddb2-5ab28e53d9eb"
      },
      "execution_count": 51,
      "outputs": [
        {
          "output_type": "stream",
          "name": "stdout",
          "text": [
            "Writing ClassOfLoanCount.py\n"
          ]
        }
      ]
    },
    {
      "cell_type": "code",
      "source": [
        "!python ClassOfLoanCount.py fundingClassification.txt"
      ],
      "metadata": {
        "colab": {
          "base_uri": "https://localhost:8080/"
        },
        "id": "liEUhFCTMHuo",
        "outputId": "a3ca42bd-b304-4b86-da80-8be1a7f530c1"
      },
      "execution_count": 52,
      "outputs": [
        {
          "output_type": "stream",
          "name": "stdout",
          "text": [
            "No configs found; falling back on auto-configuration\n",
            "No configs specified for inline runner\n",
            "Creating temp directory /tmp/ClassOfLoanCount.root.20221130.110623.485606\n",
            "Running step 1 of 1...\n",
            "job output is in /tmp/ClassOfLoanCount.root.20221130.110623.485606/output\n",
            "Streaming final output from /tmp/ClassOfLoanCount.root.20221130.110623.485606/output...\n",
            "\"emerging\"\t458\n",
            "\"excellence\"\t6\n",
            "\"family\"\t3273\n",
            "\"private\"\t7\n",
            "\"renovation\"\t103\n",
            "\"solution\"\t161\n",
            "\"taxi cab\"\t135\n",
            "\"telecom\"\t4\n",
            "\"food trucks\"\t7\n",
            "\"fresh graduate\"\t19\n",
            "\"funding classification\"\t1\n",
            "\"invention\"\t1\n",
            "\"marriage\"\t7001\n",
            "Removing temp directory /tmp/ClassOfLoanCount.root.20221130.110623.485606...\n"
          ]
        }
      ]
    },
    {
      "cell_type": "markdown",
      "source": [
        "**Based on our results, marriage has been the most commonly requested classification for a social loan.**"
      ],
      "metadata": {
        "id": "v4Z4_w5lRwCY"
      }
    }
  ]
}